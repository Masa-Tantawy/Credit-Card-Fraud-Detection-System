{
 "cells": [
  {
   "cell_type": "markdown",
   "id": "01496283",
   "metadata": {},
   "source": [
    "## Cross validation on best performing models"
   ]
  },
  {
   "cell_type": "code",
   "execution_count": 1,
   "id": "24dc6521",
   "metadata": {},
   "outputs": [],
   "source": [
    "## Ignoring warnings\n",
    "import warnings\n",
    "warnings.filterwarnings('ignore')\n",
    "###\n",
    "\n",
    "%matplotlib inline \n",
    "import pandas as pd\n",
    "import numpy as np\n",
    "import matplotlib.pyplot as plt"
   ]
  },
  {
   "cell_type": "code",
   "execution_count": 2,
   "id": "af501e31",
   "metadata": {},
   "outputs": [
    {
     "name": "stdout",
     "output_type": "stream",
     "text": [
      "(1851959, 84)\n"
     ]
    }
   ],
   "source": [
    "df= pd.read_csv('New CCTrans.csv', index_col=0)\n",
    "\n",
    "print(df.shape)\n",
    "#print(df.columns)\n",
    "x= df.iloc[:,1:]\n",
    "y= df.is_fraud"
   ]
  },
  {
   "cell_type": "code",
   "execution_count": 3,
   "id": "261ed9e1",
   "metadata": {},
   "outputs": [],
   "source": [
    "from sklearn.model_selection import cross_val_predict, KFold\n",
    "from sklearn.metrics import recall_score\n",
    "from sklearn.model_selection import cross_validate"
   ]
  },
  {
   "cell_type": "markdown",
   "id": "23bad4c3",
   "metadata": {},
   "source": [
    "### Decision Tree"
   ]
  },
  {
   "cell_type": "code",
   "execution_count": 4,
   "id": "203b458f",
   "metadata": {},
   "outputs": [
    {
     "name": "stdout",
     "output_type": "stream",
     "text": [
      "0.8063380281690141\n"
     ]
    }
   ],
   "source": [
    "from sklearn.tree import DecisionTreeClassifier\n",
    "# 5 fold cross validation\n",
    "decision_tree = DecisionTreeClassifier(criterion=\"entropy\", random_state=0)\n",
    "cv = KFold(n_splits=5)\n",
    "\n",
    "\n",
    "y_pred = cross_val_predict(decision_tree, x, y, cv = cv)\n",
    "recall = recall_score(y_pred.astype(int), y.astype(int))\n",
    "print(recall)"
   ]
  },
  {
   "cell_type": "code",
   "execution_count": 5,
   "id": "db634524",
   "metadata": {},
   "outputs": [
    {
     "name": "stdout",
     "output_type": "stream",
     "text": [
      "0.8040887610437641\n"
     ]
    }
   ],
   "source": [
    "# 10 fold cross validation\n",
    "decision_tree = DecisionTreeClassifier(criterion=\"entropy\", random_state=0)\n",
    "cv = KFold(n_splits=10)\n",
    "\n",
    "\n",
    "y_pred = cross_val_predict(decision_tree, x, y, cv = cv)\n",
    "recall = recall_score(y_pred.astype(int), y.astype(int))\n",
    "print(recall)"
   ]
  },
  {
   "cell_type": "code",
   "execution_count": 6,
   "id": "ee9a9382",
   "metadata": {},
   "outputs": [],
   "source": [
    "from sklearn.tree import DecisionTreeClassifier\n",
    "decision_tree = DecisionTreeClassifier(criterion=\"gini\", random_state=0)"
   ]
  },
  {
   "cell_type": "code",
   "execution_count": 8,
   "id": "cc61d3ce",
   "metadata": {},
   "outputs": [
    {
     "name": "stdout",
     "output_type": "stream",
     "text": [
      "0.7837754788487146\n"
     ]
    }
   ],
   "source": [
    "# 5 fold cross validation\n",
    "cv = KFold(n_splits=5)\n",
    "y_pred = cross_val_predict(decision_tree, x, y, cv = cv)\n",
    "recall = recall_score(y_pred.astype(int), y.astype(int))\n",
    "print(recall)"
   ]
  },
  {
   "cell_type": "code",
   "execution_count": 9,
   "id": "4fe4a22e",
   "metadata": {},
   "outputs": [
    {
     "name": "stdout",
     "output_type": "stream",
     "text": [
      "0.7933825035853309\n"
     ]
    }
   ],
   "source": [
    "# 10 fold cross validation\n",
    "cv = KFold(n_splits=10)\n",
    "y_pred = cross_val_predict(decision_tree, x, y, cv = cv)\n",
    "recall = recall_score(y_pred.astype(int), y.astype(int))\n",
    "print(recall)"
   ]
  },
  {
   "cell_type": "markdown",
   "id": "0a252d08",
   "metadata": {},
   "source": [
    "### Neural Networks"
   ]
  },
  {
   "cell_type": "code",
   "execution_count": 10,
   "id": "e168deff",
   "metadata": {},
   "outputs": [],
   "source": [
    "from sklearn.neural_network import MLPClassifier\n",
    "ML_NN = MLPClassifier(activation= 'logistic') #default solver= adam"
   ]
  },
  {
   "cell_type": "code",
   "execution_count": 11,
   "id": "62836b32",
   "metadata": {},
   "outputs": [
    {
     "name": "stdout",
     "output_type": "stream",
     "text": [
      "0.945923575665609\n"
     ]
    }
   ],
   "source": [
    "# 5 fold cross validation\n",
    "cv = KFold(n_splits=5)\n",
    "y_pred = cross_val_predict(ML_NN, x, y, cv = cv)\n",
    "recall = recall_score(y_pred.astype(int), y.astype(int))\n",
    "print(recall)"
   ]
  },
  {
   "cell_type": "code",
   "execution_count": 12,
   "id": "333b9a76",
   "metadata": {},
   "outputs": [
    {
     "name": "stdout",
     "output_type": "stream",
     "text": [
      "0.9362315045174807\n"
     ]
    }
   ],
   "source": [
    "# 10 fold cross validation\n",
    "cv = KFold(n_splits=10)\n",
    "y_pred = cross_val_predict(ML_NN, x, y, cv = cv)\n",
    "recall = recall_score(y_pred.astype(int), y.astype(int))\n",
    "print(recall)"
   ]
  },
  {
   "cell_type": "markdown",
   "id": "9a556bf4",
   "metadata": {},
   "source": [
    "### Random Forests"
   ]
  },
  {
   "cell_type": "code",
   "execution_count": 13,
   "id": "fee6162c",
   "metadata": {},
   "outputs": [],
   "source": [
    "from sklearn.ensemble import RandomForestClassifier\n",
    "rand_forest = RandomForestClassifier(n_estimators=71, criterion='entropy')"
   ]
  },
  {
   "cell_type": "code",
   "execution_count": 14,
   "id": "3bff76b5",
   "metadata": {},
   "outputs": [
    {
     "name": "stdout",
     "output_type": "stream",
     "text": [
      "0.9841581170790585\n"
     ]
    }
   ],
   "source": [
    "# 5 fold cross validation\n",
    "cv = KFold(n_splits=5)\n",
    "y_pred = cross_val_predict(rand_forest, x, y, cv = cv)\n",
    "recall = recall_score(y_pred.astype(int), y.astype(int))\n",
    "print(recall)"
   ]
  },
  {
   "cell_type": "code",
   "execution_count": 16,
   "id": "8b510eea",
   "metadata": {},
   "outputs": [
    {
     "name": "stdout",
     "output_type": "stream",
     "text": [
      "0.9820535451603413\n"
     ]
    }
   ],
   "source": [
    "# 10 fold cross validation\n",
    "cv = KFold(n_splits=10)\n",
    "y_pred = cross_val_predict(rand_forest, x, y, cv = cv)\n",
    "recall = recall_score(y_pred.astype(int), y.astype(int))\n",
    "print(recall)"
   ]
  },
  {
   "cell_type": "markdown",
   "id": "fc2e7405",
   "metadata": {},
   "source": [
    "Therefore, the best model is random forests after undergoing cross validation"
   ]
  },
  {
   "cell_type": "code",
   "execution_count": null,
   "id": "a54ee53f",
   "metadata": {},
   "outputs": [],
   "source": []
  }
 ],
 "metadata": {
  "kernelspec": {
   "display_name": "Python 3 (ipykernel)",
   "language": "python",
   "name": "python3"
  },
  "language_info": {
   "codemirror_mode": {
    "name": "ipython",
    "version": 3
   },
   "file_extension": ".py",
   "mimetype": "text/x-python",
   "name": "python",
   "nbconvert_exporter": "python",
   "pygments_lexer": "ipython3",
   "version": "3.9.13"
  }
 },
 "nbformat": 4,
 "nbformat_minor": 5
}
